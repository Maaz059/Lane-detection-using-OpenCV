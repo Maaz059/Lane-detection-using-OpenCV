{
 "cells": [
  {
   "cell_type": "markdown",
   "metadata": {},
   "source": [
    "### Using OpenCV to load our image "
   ]
  },
  {
   "cell_type": "code",
   "execution_count": 97,
   "metadata": {},
   "outputs": [],
   "source": [
    "import cv2"
   ]
  },
  {
   "cell_type": "code",
   "execution_count": 98,
   "metadata": {},
   "outputs": [],
   "source": [
    "image = cv2.imread('road_pic.jpg')"
   ]
  },
  {
   "cell_type": "code",
   "execution_count": 99,
   "metadata": {},
   "outputs": [],
   "source": [
    "size = image.shape"
   ]
  },
  {
   "cell_type": "code",
   "execution_count": 100,
   "metadata": {},
   "outputs": [
    {
     "name": "stdout",
     "output_type": "stream",
     "text": [
      "(704, 1279, 3)\n"
     ]
    }
   ],
   "source": [
    "print(size)"
   ]
  },
  {
   "cell_type": "code",
   "execution_count": 101,
   "metadata": {},
   "outputs": [
    {
     "name": "stdout",
     "output_type": "stream",
     "text": [
      "height =704  width = 1279\n"
     ]
    }
   ],
   "source": [
    "height = image.shape[0]\n",
    "width = image.shape[1]\n",
    "channels = image.shape[2]\n",
    "# 3 channels means its an RGB image, 1 channel means its a BW image\n",
    "print('height ='+ str(height) + '  '+'width = '+ str(width))"
   ]
  },
  {
   "cell_type": "code",
   "execution_count": 102,
   "metadata": {},
   "outputs": [],
   "source": [
    "cv2.imshow('picture', image)\n",
    "cv2.waitKey(0)\n",
    "cv2.destroyAllWindows()"
   ]
  },
  {
   "cell_type": "markdown",
   "metadata": {},
   "source": [
    "![title](road_pic.jpg)"
   ]
  },
  {
   "cell_type": "markdown",
   "metadata": {},
   "source": [
    "### Converting RGB to BW image for processing"
   ]
  },
  {
   "cell_type": "code",
   "execution_count": 103,
   "metadata": {},
   "outputs": [],
   "source": [
    "import numpy as np "
   ]
  },
  {
   "cell_type": "code",
   "execution_count": 104,
   "metadata": {},
   "outputs": [],
   "source": [
    "lane_image = np.copy(image)\n",
    "gray = cv2.cvtColor(lane_image, cv2.COLOR_RGB2GRAY)"
   ]
  },
  {
   "cell_type": "code",
   "execution_count": 105,
   "metadata": {},
   "outputs": [],
   "source": [
    "cv2.imshow('BW image', gray)\n",
    "cv2.waitKey(0)\n",
    "cv2.destroyAllWindows()"
   ]
  },
  {
   "cell_type": "markdown",
   "metadata": {},
   "source": [
    "![title](gray.png)"
   ]
  },
  {
   "cell_type": "markdown",
   "metadata": {},
   "source": [
    "#### We reduce noise in the image by applying Gaussian Blur function "
   ]
  },
  {
   "cell_type": "code",
   "execution_count": 107,
   "metadata": {},
   "outputs": [],
   "source": [
    "# we use 5 by 5 window for guassian blur\n",
    "blur = cv2.GaussianBlur(gray, [5, 5], 0)"
   ]
  },
  {
   "cell_type": "code",
   "execution_count": 108,
   "metadata": {},
   "outputs": [],
   "source": [
    "cv2.imshow('GB_image', blur)\n",
    "cv2.waitKey(0)\n",
    "cv2.destroyAllWindows()"
   ]
  },
  {
   "cell_type": "markdown",
   "metadata": {},
   "source": [
    "### We use Canny function to detect edges"
   ]
  },
  {
   "cell_type": "code",
   "execution_count": 109,
   "metadata": {},
   "outputs": [],
   "source": [
    "# canny function applies a gaussian blur on an image by default\n",
    "# it detects sharp transitions in pixel values as per given thresholds\n",
    "# 50 is the lower threshold \n",
    "# 150 is the higher threshold\n",
    "\n",
    "edges = cv2.Canny(blur, 50, 150)"
   ]
  },
  {
   "cell_type": "code",
   "execution_count": 110,
   "metadata": {},
   "outputs": [],
   "source": [
    "cv2.imshow('canny function', edges)\n",
    "cv2.waitKey(0)\n",
    "cv2.destroyAllWindows()"
   ]
  },
  {
   "cell_type": "markdown",
   "metadata": {},
   "source": [
    "![title](canny.png)"
   ]
  },
  {
   "cell_type": "markdown",
   "metadata": {},
   "source": [
    "### Detecting our region of interest ROI"
   ]
  },
  {
   "cell_type": "code",
   "execution_count": 111,
   "metadata": {},
   "outputs": [],
   "source": [
    "# First we use pyplots to visualize the dimensions of our image\n",
    "import matplotlib.pyplot as plt"
   ]
  },
  {
   "cell_type": "code",
   "execution_count": 112,
   "metadata": {},
   "outputs": [
    {
     "data": {
      "image/png": "[encoded data removed]",
      "text/plain": [
       "<Figure size 432x288 with 1 Axes>"
      ]
     },
     "metadata": {
      "needs_background": "light"
     },
     "output_type": "display_data"
    }
   ],
   "source": [
    "plt.imshow(edges)\n",
    "plt.show()"
   ]
  },
  {
   "cell_type": "markdown",
   "metadata": {},
   "source": [
    "#### Our ROI are from coordinates (x= 200, y= height) (x= 1100, y = height) (x= 550, y= 250)\n",
    "#### This forms a triangle shape which includes the lane in front of the car "
   ]
  },
  {
   "cell_type": "markdown",
   "metadata": {},
   "source": [
    "#### We create a mask i.e., array of zeros for the image ( same size as image )"
   ]
  },
  {
   "cell_type": "code",
   "execution_count": 113,
   "metadata": {},
   "outputs": [],
   "source": [
    "border = np.array([[(200, height), (1100, height), (550, 250)]])"
   ]
  },
  {
   "cell_type": "code",
   "execution_count": 114,
   "metadata": {},
   "outputs": [],
   "source": [
    "# array of zeros of same size as image\n",
    "mask = np.zeros_like(gray)"
   ]
  },
  {
   "cell_type": "code",
   "execution_count": 115,
   "metadata": {},
   "outputs": [],
   "source": [
    "# This function fills our roi with white pixels \n",
    "cv2.fillPoly(mask, border, 255)\n",
    "#(255, 255, 255) specifies white color \n",
    "\n",
    "cv2.imshow('ROI Border', mask)\n",
    "cv2.waitKey(0)\n",
    "cv2.destroyAllWindows()"
   ]
  },
  {
   "cell_type": "markdown",
   "metadata": {},
   "source": [
    "![title](mask.png)"
   ]
  },
  {
   "cell_type": "markdown",
   "metadata": {},
   "source": [
    "### Now the mask is ANDed with our image to obtain the image of our ROI "
   ]
  },
  {
   "cell_type": "code",
   "execution_count": 116,
   "metadata": {},
   "outputs": [],
   "source": [
    "# we perform bitwise AND on our edge detedted image with our mask \n",
    "# this will give us our ROI\n",
    "\n",
    "roi = cv2.bitwise_and(edges, mask)\n",
    "\n",
    "cv2.imshow('ROI Border', roi)\n",
    "cv2.waitKey(0)\n",
    "cv2.destroyAllWindows()"
   ]
  },
  {
   "cell_type": "markdown",
   "metadata": {},
   "source": [
    "![title](roi.png)"
   ]
  },
  {
   "cell_type": "code",
   "execution_count": 117,
   "metadata": {},
   "outputs": [
    {
     "name": "stdout",
     "output_type": "stream",
     "text": [
      "(704, 1279)\n"
     ]
    }
   ],
   "source": [
    "print(mask.shape)"
   ]
  },
  {
   "cell_type": "markdown",
   "metadata": {},
   "source": [
    "### Using Hough Transforms to detect lane lines "
   ]
  },
  {
   "cell_type": "code",
   "execution_count": 118,
   "metadata": {},
   "outputs": [],
   "source": [
    "lines = cv2.HoughLinesP(roi, 2, np.pi/100, 100, np.array([]), minLineLength=40, maxLineGap=5)\n",
    "\n",
    "#1st argument is the image we passs as input to the HT\n",
    "#2nd arg is the rough(p) value or no. of bins, we set it to 2 bins \n",
    "#3rd arg is the theta value, we set it to 1 rad\n",
    "#4th arg is an empty numpy array to contain the values\n",
    "#5th arg is a built in variable which specifies min no. of pixels for a line to be considered \n",
    "#6th arf is a built in variable which specifies max no. of pixel gaps b/w a line "
   ]
  },
  {
   "cell_type": "code",
   "execution_count": 119,
   "metadata": {},
   "outputs": [
    {
     "name": "stdout",
     "output_type": "stream",
     "text": [
      "[[704 418 927 641]]\n",
      "[[736 459 844 573]]\n",
      "[[323 699 452 481]]\n",
      "[[875 604 952 685]]\n",
      "[[592 304 704 416]]\n",
      "[[650 367 704 424]]\n",
      "[[618 334 781 507]]\n",
      "[[402 542 453 462]]\n",
      "[[856 585 903 634]]\n",
      "[[660 373 754 467]]\n"
     ]
    }
   ],
   "source": [
    "# To check is our HT function detedted any lines\n",
    "if lines is not None:\n",
    "    for line in lines:\n",
    "        print(line)"
   ]
  },
  {
   "cell_type": "markdown",
   "metadata": {},
   "source": [
    "#### Each line is a 2D array containing our line coordiantes in the form [ [ x1 y1, x2 y2] ]                              These coordinates specify line parameters as well as the location of the lines with respect to the image space, ensuring that they are placed in the correct position"
   ]
  },
  {
   "cell_type": "code",
   "execution_count": 120,
   "metadata": {},
   "outputs": [],
   "source": [
    "# We create a black image where we will display our detedted lines\n",
    "line_image = np.zeros_like(lane_image)"
   ]
  },
  {
   "cell_type": "code",
   "execution_count": 121,
   "metadata": {},
   "outputs": [],
   "source": [
    "# We have to unpack the line variable which is a 2D array into a 1D array \n",
    "if lines is not None:\n",
    "    for line in lines:\n",
    "        x1, y1, x2, y2 = line.reshape(4)\n",
    "        cv2.line(line_image, (x1,y1), (x2,y2), (255,0,0), 10)\n",
    "        \n",
    "#cv2.line() functions draws a line onto the black image i.e., our line_image variable\n",
    "#x1,y1,x2,y2 are the coordinates where a line must be drawn \n",
    "#(255,0,0) specifies line color i.e., Blue here\n",
    "#5th arg specifies line thickness, here we use 10"
   ]
  },
  {
   "cell_type": "code",
   "execution_count": 122,
   "metadata": {},
   "outputs": [],
   "source": [
    "cv2.imshow('Lines detected', line_image)\n",
    "cv2.waitKey(0)\n",
    "cv2.destroyAllWindows()"
   ]
  },
  {
   "cell_type": "markdown",
   "metadata": {},
   "source": [
    "![title](lines.png)"
   ]
  },
  {
   "cell_type": "code",
   "execution_count": 123,
   "metadata": {},
   "outputs": [],
   "source": [
    "#Now displaying lane lines onto the original Image\n",
    "road_lanes = cv2.addWeighted(lane_image, 0.8, line_image,1, 1)\n",
    "# I have decreased the pixel intesnities of the lane_image to 0.8\n",
    "# since the background of line_image is black adding 0s to lane_image wont affect the original image"
   ]
  },
  {
   "cell_type": "code",
   "execution_count": 124,
   "metadata": {},
   "outputs": [],
   "source": [
    "cv2.imshow('Lanes detected', road_lanes)\n",
    "cv2.waitKey(0)\n",
    "cv2.destroyAllWindows()"
   ]
  },
  {
   "cell_type": "markdown",
   "metadata": {},
   "source": [
    "![title](road_lanes.png)"
   ]
  },
  {
   "cell_type": "markdown",
   "metadata": {},
   "source": [
    "#### Optimising the detected lines by averaging their slopes and intercepts"
   ]
  },
  {
   "cell_type": "code",
   "execution_count": 125,
   "metadata": {},
   "outputs": [
    {
     "name": "stdout",
     "output_type": "stream",
     "text": [
      "[   1. -286.]\n",
      "[   1.05555556 -317.88888889]\n",
      "[  -1.68992248 1244.84496124]\n",
      "[   1.05194805 -316.45454545]\n",
      "[   1. -288.]\n",
      "[   1.05555556 -319.11111111]\n",
      "[   1.06134969 -321.91411043]\n",
      "[  -1.56862745 1172.58823529]\n",
      "[   1.04255319 -307.42553191]\n",
      "[   1. -287.]\n"
     ]
    }
   ],
   "source": [
    "for line in lines:\n",
    "    x1, y1, x2, y2 = line.reshape(4)\n",
    "    line_parameters = np.polyfit((x1,x2), (y1,y2), 1)\n",
    "    print(line_parameters)"
   ]
  },
  {
   "cell_type": "markdown",
   "metadata": {},
   "source": [
    "#### first value is the slope and second value is the y-intercept"
   ]
  },
  {
   "cell_type": "code",
   "execution_count": 126,
   "metadata": {},
   "outputs": [
    {
     "name": "stdout",
     "output_type": "stream",
     "text": [
      "[  -1.62927497 1208.71659827]\n",
      "[   1.03337026 -305.47427347]\n"
     ]
    }
   ],
   "source": [
    "# Lets average the slope and intercept values of the detected lane lines\n",
    "left_lane = []\n",
    "right_lane = []\n",
    "for line in lines:\n",
    "    x1, y1, x2, y2 = line.reshape(4)\n",
    "    line_parameters = np.polyfit((x1,x2), (y1,y2), 1)\n",
    "    slope = line_parameters[0]\n",
    "    intercept = line_parameters[1]\n",
    "    if slope < 0:\n",
    "        left_lane.append((slope, intercept)) #slope of left lane lines is negative\n",
    "    else:\n",
    "        right_lane.append((slope, intercept))#slope of right lane lines is positive\n",
    "    \n",
    "left_lane_avg = np.average(left_lane, axis=0)\n",
    "right_lane_avg = np.average(right_lane, axis=0)\n",
    "\n",
    "print(left_lane_avg)\n",
    "print(right_lane_avg)"
   ]
  },
  {
   "cell_type": "code",
   "execution_count": 127,
   "metadata": {},
   "outputs": [],
   "source": [
    "# Lets define a functin which creates coordinates to represnt lane lines in the image\n",
    "def create_coordinates(image, avg_parameters):\n",
    "    slope, intercept = avg_parameters\n",
    "    y1 = height # from bottom of the image\n",
    "    y2 = int(y1*(3/5)) # to 3/5th of the height of the image\n",
    "    x1 = int((y1-intercept)/slope)\n",
    "    x2 = int((y2-intercept)/slope)\n",
    "    return np.array([x1, y1, x2, y2])"
   ]
  },
  {
   "cell_type": "code",
   "execution_count": 128,
   "metadata": {},
   "outputs": [
    {
     "name": "stdout",
     "output_type": "stream",
     "text": [
      "[309 704 482 422]\n",
      "[976 704 703 422]\n"
     ]
    }
   ],
   "source": [
    "left_line = create_coordinates(image, left_lane_avg)\n",
    "right_line = create_coordinates(image, right_lane_avg)\n",
    "print(left_line) \n",
    "print(right_line)"
   ]
  },
  {
   "cell_type": "code",
   "execution_count": 129,
   "metadata": {},
   "outputs": [
    {
     "name": "stdout",
     "output_type": "stream",
     "text": [
      "[[309 704 482 422]\n",
      " [976 704 703 422]]\n"
     ]
    }
   ],
   "source": [
    "averaged_lines = np.array([(left_line), (right_line)])\n",
    "print(averaged_lines)"
   ]
  },
  {
   "cell_type": "code",
   "execution_count": 130,
   "metadata": {},
   "outputs": [],
   "source": [
    "line_image_2 = np.zeros_like(lane_image)\n",
    "\n",
    "for x1, y1, x2, y2 in averaged_lines:\n",
    "    cv2.line(line_image_2, (x1,y1), (x2,y2), (255,0,0), 10)\n",
    "        \n",
    "cv2.imshow('Lines detected', line_image_2)\n",
    "cv2.waitKey(0)\n",
    "cv2.destroyAllWindows()"
   ]
  },
  {
   "cell_type": "markdown",
   "metadata": {},
   "source": [
    "![title](average_lines.png)"
   ]
  },
  {
   "cell_type": "code",
   "execution_count": 131,
   "metadata": {},
   "outputs": [],
   "source": [
    "#Now displaying lane lines onto the original Image\n",
    "road_lanes = cv2.addWeighted(lane_image, 0.8, line_image_2,1, 1)\n",
    "\n",
    "cv2.imshow('combined', road_lanes)\n",
    "cv2.waitKey(0)\n",
    "cv2.destroyAllWindows()"
   ]
  },
  {
   "cell_type": "markdown",
   "metadata": {},
   "source": [
    "![title](combo.png)"
   ]
  },
  {
   "cell_type": "code",
   "execution_count": null,
   "metadata": {},
   "outputs": [],
   "source": []
  }
 ],
 "metadata": {
  "kernelspec": {
   "display_name": "Python 3",
   "language": "python",
   "name": "python3"
  },
  "language_info": {
   "codemirror_mode": {
    "name": "ipython",
    "version": 3
   },
   "file_extension": ".py",
   "mimetype": "text/x-python",
   "name": "python",
   "nbconvert_exporter": "python",
   "pygments_lexer": "ipython3",
   "version": "3.7.4"
  }
 },
 "nbformat": 4,
 "nbformat_minor": 2
}
